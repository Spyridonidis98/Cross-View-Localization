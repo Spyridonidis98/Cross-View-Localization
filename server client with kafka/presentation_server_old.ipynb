{
 "cells": [
  {
   "cell_type": "code",
   "execution_count": 4,
   "metadata": {},
   "outputs": [
    {
     "name": "stdout",
     "output_type": "stream",
     "text": [
      "Topics: ['3DOF', '3DOF_old', 'my_first_topic']\n"
     ]
    }
   ],
   "source": [
    "# first set up the and run the kafka server also install kafka-python. The commands can be found in 'kakfa commands.txt'\n",
    "\n",
    "from kafka import KafkaAdminClient\n",
    "from kafka.admin import NewTopic\n",
    "\n",
    "# Create an instance of KafkaAdminClient\n",
    "admin_client = KafkaAdminClient(\n",
    "    bootstrap_servers=\"localhost:9092\",  # Update with your Kafka broker(s)\n",
    "    client_id='my_client'\n",
    ")\n",
    "\n",
    "topic_name = '3DOF_old'\n",
    "\n",
    "num_partitions = 2\n",
    "replication_factor = 1\n",
    "topic_configs = {\"retention.ms\": str(600000), # all messages that are older than 10 min in the topic get deleted\n",
    "                 \"retention.bytes\": str(int(100e6)), #when the messages in the topic exide 100 MB old messages get deleted \n",
    "                 'max.message.bytes': str(int(5e6))} #max allowed size in MB of each message set to 5MB \n",
    "\n",
    "my_first_topic = NewTopic(name=topic_name, num_partitions=num_partitions,\n",
    "                           replication_factor=replication_factor,\n",
    "                           topic_configs=topic_configs)\n",
    "\n",
    "admin_client.create_topics(new_topics=[my_first_topic])\n",
    "\n",
    "# List all topics\n",
    "topics = admin_client.list_topics()\n",
    "print(\"Topics:\", topics)\n",
    "\n",
    "\n"
   ]
  },
  {
   "cell_type": "code",
   "execution_count": 5,
   "metadata": {},
   "outputs": [],
   "source": [
    "from kafka import KafkaConsumer, KafkaProducer,TopicPartition\n",
    "import msgpack\n",
    "import simplejpeg\n",
    "import torch\n",
    "\n",
    "\n",
    "def dict_to_bytes(data_dict):\n",
    "    return msgpack.packb(data_dict, use_bin_type=True)\n",
    "\n",
    "\n",
    "def bytes_to_dict(json_str):\n",
    "    return msgpack.unpackb(json_str, raw=False)\n",
    "\n",
    "\n",
    "def encode_pytorch_image(img):\n",
    "    \"\"\"\n",
    "    Takes a pytorch tensor of shape (3,H,W) and encodes it to bytes, jpeg compression is used \n",
    "    img is float32 and values are in range (0,1)\n",
    "    \"\"\"\n",
    "    img_numpy = img * 255.0 \n",
    "    img_numpy = torch.permute(img_numpy, (1,2,0)).contiguous()\n",
    "    img_numpy = img_numpy.to(torch.uint8).numpy()\n",
    "    grd_img_bytes = simplejpeg.encode_jpeg(img_numpy)\n",
    "\n",
    "    return grd_img_bytes\n",
    "\n",
    "def decode_pytorch_image(img_bytes):\n",
    "    \"\"\"\n",
    "    Takes an encoded pytorch images that is in the form of bytes and decodes it \n",
    "    return tensor of shape (3,H,W)\n",
    "    \"\"\"\n",
    "    img_numpy = simplejpeg.decode_jpeg(img_bytes)\n",
    "    img_torch = torch.tensor(img_numpy, dtype=torch.float32) / 255.0\n",
    "    img_torch = torch.permute(img_torch, [2,0,1]).contiguous()\n",
    "\n",
    "    return img_torch\n",
    "\n",
    "\n",
    "consumer = KafkaConsumer(#topic = topic_name,\n",
    "                         bootstrap_servers=['localhost:9092'],\n",
    "                         auto_offset_reset='latest', #will start consuming from the last message in the topic \n",
    "                         #consumer_timeout_ms=10000 #stop consumer from waiting for messages after 1000ms of not reciving any messages \n",
    "                         )\n",
    "\n",
    "tp1 = TopicPartition(topic_name, 0)\n",
    "consumer.assign([tp1])\n",
    "\n",
    "\n",
    "producer = KafkaProducer(bootstrap_servers=['localhost:9092'],\n",
    "                         )"
   ]
  },
  {
   "cell_type": "code",
   "execution_count": 6,
   "metadata": {},
   "outputs": [
    {
     "name": "stdout",
     "output_type": "stream",
     "text": [
      "Error importing huggingface_hub.hf_api: cannot import name 'COMMON_SAFE_ASCII_CHARACTERS' from 'charset_normalizer.constant' (/home/dimitris/miniconda3/envs/condapy310/lib/python3.10/site-packages/charset_normalizer/constant.py)\n",
      "/mnt/c/Users/dimitris/Desktop/MyFiles/diplomatikh/pytorch-tensorflow/pytorch/Cross-View-Localization/server client with kafka\n"
     ]
    },
    {
     "name": "stderr",
     "output_type": "stream",
     "text": [
      "/home/dimitris/miniconda3/envs/condapy310/lib/python3.10/site-packages/torchvision/models/_utils.py:208: UserWarning: The parameter 'pretrained' is deprecated since 0.13 and may be removed in the future, please use 'weights' instead.\n",
      "  warnings.warn(\n",
      "/home/dimitris/miniconda3/envs/condapy310/lib/python3.10/site-packages/torchvision/models/_utils.py:223: UserWarning: Arguments other than a weight enum or `None` for 'weights' are deprecated since 0.13 and may be removed in the future. The current behavior is equivalent to passing `weights=VGG16_Weights.IMAGENET1K_V1`. You can also use `weights=VGG16_Weights.DEFAULT` to get the most up-to-date weights.\n",
      "  warnings.warn(msg)\n",
      "/home/dimitris/miniconda3/envs/condapy310/lib/python3.10/site-packages/torch/functional.py:507: UserWarning: torch.meshgrid: in an upcoming release, it will be required to pass the indexing argument. (Triggered internally at /opt/conda/conda-bld/pytorch_1708025847130/work/aten/src/ATen/native/TensorShape.cpp:3549.)\n",
      "  return _VF.meshgrid(tensors, **kwargs)  # type: ignore[attr-defined]\n"
     ]
    },
    {
     "data": {
      "text/plain": [
       "(3511, 1)"
      ]
     },
     "execution_count": 6,
     "metadata": {},
     "output_type": "execute_result"
    }
   ],
   "source": [
    "import os\n",
    "\n",
    "import utils\n",
    "from Ford_dataset_s import SatGrdDatasetFordPresentation, train_logs, train_logs_img_inds, test_logs, test_logs_img_inds\n",
    "from models_ford_s import ModelFord\n",
    "from utils_s import render_point_cloud\n",
    "# from models_ford import ModelFord as ModelFord_orig\n",
    "from torchvision import transforms\n",
    "import torch\n",
    "from torch.utils.data import DataLoader\n",
    "from matplotlib import pyplot as plt \n",
    "import matplotlib.gridspec as gridspec\n",
    "import numpy as np \n",
    "# from VGG import Unet, space2channel\n",
    "\n",
    "from train_ford_3DOF_s import parse_args\n",
    "\n",
    "args = parse_args()\n",
    "# save_path ='ModelsFord/3DoF/Log_3lat20.0m_lon20.0m_rot10.0_Nit1_CrossAttn_FL_SL_3D_Uncertainty'\n",
    "save_path = 'Log_3lat20.0m_lon20.0m_rot10.0_Nit1_CrossAttn_FL_SL_3D_Uncertainty'\n",
    "args.train_log_start = 3\n",
    "\n",
    "# cameras = ['FL', 'SL'] \n",
    "# args.image_H = 256 #256\n",
    "# args.image_W = 1024#1024\n",
    "# args.cameras = cameras\n",
    "# args.batch_size = 1\n",
    "# args.lifting = '3D' #homography\n",
    "\n",
    "test_set = SatGrdDatasetFordPresentation(logs=test_logs[args.train_log_start:args.train_log_start+1],\n",
    "                                logs_img_inds=test_logs_img_inds[args.train_log_start:args.train_log_start+1],\n",
    "                                shift_range_lat=args.shift_range_lat, shift_range_lon=args.shift_range_lon,\n",
    "                                rotation_range=args.rotation_range, whole=args.test_whole, \n",
    "                                H = args.image_H, W = args.image_W, cameras=args.cameras, mode='train') \n",
    "# testloader = DataLoader(test_set, batch_size=args.batch_size, shuffle=False, pin_memory=True,\n",
    "#                             num_workers=2, drop_last=False)\n",
    "\n",
    "device = 'cuda' #torch.device(\"cuda:0\") if torch.cuda.is_available() else torch.device(\"cpu\")\n",
    "args.Rs = {key:item.to(device) for key, item in test_set.Rs.items()}\n",
    "args.Ts = {key:item.to(device) for key, item in test_set.Ts.items()}\n",
    "args.Ks = {key:item.to(device) for key, item in test_set.Ks.items()}\n",
    "net = ModelFord(args).to(device)\n",
    "net.load_state_dict(torch.load(os.path.join(save_path, 'model_1.pth')), strict=False)\n",
    "\n",
    "len(test_set), args.batch_size"
   ]
  },
  {
   "cell_type": "code",
   "execution_count": 7,
   "metadata": {},
   "outputs": [],
   "source": [
    "torch.set_float32_matmul_precision('high') \n",
    "net = torch.compile(net)"
   ]
  },
  {
   "cell_type": "code",
   "execution_count": 8,
   "metadata": {},
   "outputs": [
    {
     "name": "stdout",
     "output_type": "stream",
     "text": [
      "data recived\n",
      "data send\n",
      "data recived\n",
      "data send\n",
      "data recived\n",
      "data send\n",
      "data recived\n",
      "data send\n",
      "data recived\n",
      "data send\n",
      "data recived\n",
      "data send\n",
      "data recived\n",
      "data send\n",
      "data recived\n",
      "data send\n",
      "data recived\n",
      "data send\n",
      "data recived\n",
      "data send\n",
      "data recived\n",
      "data send\n",
      "data recived\n",
      "data send\n",
      "data recived\n",
      "data send\n",
      "data recived\n",
      "data send\n",
      "data recived\n",
      "data send\n",
      "data recived\n",
      "data send\n",
      "data recived\n",
      "data send\n",
      "data recived\n",
      "data send\n",
      "data recived\n",
      "data send\n",
      "data recived\n",
      "data send\n",
      "data recived\n",
      "data send\n",
      "data recived\n",
      "data send\n",
      "data recived\n",
      "data send\n",
      "data recived\n",
      "data send\n",
      "data recived\n",
      "data send\n",
      "data recived\n",
      "data send\n",
      "data recived\n",
      "data send\n",
      "data recived\n",
      "data send\n",
      "data recived\n",
      "data send\n",
      "data recived\n",
      "data send\n",
      "data recived\n",
      "data send\n",
      "data recived\n",
      "data send\n",
      "data recived\n",
      "data send\n"
     ]
    }
   ],
   "source": [
    "\n",
    "for message in consumer: #consumer will bring all events from the start end then wait for the next event to happend untill it time outs after 1000ms \n",
    "    print('data recived')\n",
    "    data_recived = bytes_to_dict(message.value)\n",
    "    image_0_bytes = data_recived['image_0']; image_0_tensor = decode_pytorch_image(image_0_bytes).unsqueeze(0).to(device)\n",
    "    image_1_bytes = data_recived['image_1']; image_1_tensor = decode_pytorch_image(image_1_bytes).unsqueeze(0).to(device)\n",
    "    grd_imgs = [image_0_tensor, image_1_tensor]\n",
    "    data_id = data_recived['data_id']\n",
    "\n",
    "\n",
    "    data_local = test_set[data_id]\n",
    "    sat_img, _, gt_shift_u, gt_shift_v, gt_heading, grd_names, sat_img_norot_notran, s_lat, s_lon, g_lat, g_lon, yaw = [[camera.to(device).unsqueeze(0) if type(camera) == torch.Tensor else camera for camera in item] if type(item)== tuple else item.to(device).unsqueeze(0) if type(item) == torch.Tensor else item for item in data_local]\n",
    "\n",
    "    \n",
    "    with torch.no_grad():\n",
    "        pred_u, pred_v, pred_orien = net.CrossAttn_rot_corr(sat_img, grd_imgs, gt_shift_u, gt_shift_v, gt_heading, mode='test')\n",
    "        \n",
    "        data = {'pred_u': pred_u.cpu().item(), 'pred_v': pred_v.cpu().item(), 'pred_orien': pred_orien.cpu().item()}\n",
    "        data_bytes_send = dict_to_bytes(data)\n",
    "        #send data back \n",
    "        producer.send(topic_name, value=data_bytes_send, partition=1)\n",
    "        print('data send')\n"
   ]
  },
  {
   "cell_type": "code",
   "execution_count": 3,
   "metadata": {},
   "outputs": [
    {
     "data": {
      "text/plain": [
       "DeleteTopicsResponse_v3(throttle_time_ms=0, topic_error_codes=[(topic='3DOF_old', error_code=0)])"
      ]
     },
     "execution_count": 3,
     "metadata": {},
     "output_type": "execute_result"
    }
   ],
   "source": [
    "admin_client.delete_topics(topics=[topic_name])"
   ]
  }
 ],
 "metadata": {
  "kernelspec": {
   "display_name": "condapy310",
   "language": "python",
   "name": "python3"
  },
  "language_info": {
   "codemirror_mode": {
    "name": "ipython",
    "version": 3
   },
   "file_extension": ".py",
   "mimetype": "text/x-python",
   "name": "python",
   "nbconvert_exporter": "python",
   "pygments_lexer": "ipython3",
   "version": "3.10.13"
  }
 },
 "nbformat": 4,
 "nbformat_minor": 2
}
