{
 "cells": [
  {
   "cell_type": "code",
   "execution_count": null,
   "metadata": {},
   "outputs": [],
   "source": [
    "!pip install dropbox\n",
    "!pip install kafka-python \n",
    "!pip install msgpack\n",
    "!pip install simplejpeg\n",
    "!pip install pandas\n",
    "!pip install scipy\n",
    "!pip install timm\n",
    "!pip install tk\n",
    "!apt-get install python3-tk"
   ]
  }
 ],
 "metadata": {
  "language_info": {
   "name": "python"
  }
 },
 "nbformat": 4,
 "nbformat_minor": 2
}
