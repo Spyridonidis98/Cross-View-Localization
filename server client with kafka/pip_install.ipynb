{
 "cells": [
  {
   "cell_type": "code",
   "execution_count": 1,
   "metadata": {},
   "outputs": [
    {
     "name": "stdout",
     "output_type": "stream",
     "text": [
      "Requirement already satisfied: dropbox in c:\\users\\dimitris\\miniconda3\\envs\\condapy310\\lib\\site-packages (12.0.2)\n",
      "Requirement already satisfied: requests>=2.16.2 in c:\\users\\dimitris\\miniconda3\\envs\\condapy310\\lib\\site-packages (from dropbox) (2.32.3)\n",
      "Requirement already satisfied: six>=1.12.0 in c:\\users\\dimitris\\appdata\\roaming\\python\\python310\\site-packages (from dropbox) (1.16.0)\n",
      "Requirement already satisfied: stone<3.3.3,>=2 in c:\\users\\dimitris\\miniconda3\\envs\\condapy310\\lib\\site-packages (from dropbox) (3.3.1)\n",
      "Requirement already satisfied: charset-normalizer<4,>=2 in c:\\users\\dimitris\\miniconda3\\envs\\condapy310\\lib\\site-packages (from requests>=2.16.2->dropbox) (3.3.2)\n",
      "Requirement already satisfied: idna<4,>=2.5 in c:\\users\\dimitris\\miniconda3\\envs\\condapy310\\lib\\site-packages (from requests>=2.16.2->dropbox) (3.7)\n",
      "Requirement already satisfied: urllib3<3,>=1.21.1 in c:\\users\\dimitris\\miniconda3\\envs\\condapy310\\lib\\site-packages (from requests>=2.16.2->dropbox) (2.2.1)\n",
      "Requirement already satisfied: certifi>=2017.4.17 in c:\\users\\dimitris\\miniconda3\\envs\\condapy310\\lib\\site-packages (from requests>=2.16.2->dropbox) (2024.6.2)\n",
      "Requirement already satisfied: ply>=3.4 in c:\\users\\dimitris\\miniconda3\\envs\\condapy310\\lib\\site-packages (from stone<3.3.3,>=2->dropbox) (3.11)\n",
      "Requirement already satisfied: kafka-python in c:\\users\\dimitris\\miniconda3\\envs\\condapy310\\lib\\site-packages (2.0.2)\n",
      "Collecting msgpack\n",
      "  Downloading msgpack-1.1.0-cp310-cp310-win_amd64.whl.metadata (8.6 kB)\n",
      "Downloading msgpack-1.1.0-cp310-cp310-win_amd64.whl (74 kB)\n",
      "   ---------------------------------------- 0.0/74.7 kB ? eta -:--:--\n",
      "   -------------------------------- ------- 61.4/74.7 kB 1.6 MB/s eta 0:00:01\n",
      "   ---------------------------------------- 74.7/74.7 kB 1.4 MB/s eta 0:00:00\n",
      "Installing collected packages: msgpack\n",
      "Successfully installed msgpack-1.1.0\n",
      "Collecting simplejpeg\n",
      "  Downloading simplejpeg-1.7.6-cp310-cp310-win_amd64.whl.metadata (30 kB)\n",
      "Requirement already satisfied: numpy>=1.19.3 in c:\\users\\dimitris\\miniconda3\\envs\\condapy310\\lib\\site-packages (from simplejpeg) (1.26.3)\n",
      "Downloading simplejpeg-1.7.6-cp310-cp310-win_amd64.whl (295 kB)\n",
      "   ---------------------------------------- 0.0/295.4 kB ? eta -:--:--\n",
      "   -------- ------------------------------- 61.4/295.4 kB 1.6 MB/s eta 0:00:01\n",
      "   ------------------- -------------------- 143.4/295.4 kB 2.1 MB/s eta 0:00:01\n",
      "   -------------------------------------- - 286.7/295.4 kB 2.2 MB/s eta 0:00:01\n",
      "   ---------------------------------------- 295.4/295.4 kB 2.3 MB/s eta 0:00:00\n",
      "Installing collected packages: simplejpeg\n",
      "Successfully installed simplejpeg-1.7.6\n",
      "Requirement already satisfied: pandas in c:\\users\\dimitris\\miniconda3\\envs\\condapy310\\lib\\site-packages (2.2.2)\n",
      "Requirement already satisfied: numpy>=1.22.4 in c:\\users\\dimitris\\miniconda3\\envs\\condapy310\\lib\\site-packages (from pandas) (1.26.3)\n",
      "Requirement already satisfied: python-dateutil>=2.8.2 in c:\\users\\dimitris\\appdata\\roaming\\python\\python310\\site-packages (from pandas) (2.9.0.post0)\n",
      "Requirement already satisfied: pytz>=2020.1 in c:\\users\\dimitris\\miniconda3\\envs\\condapy310\\lib\\site-packages (from pandas) (2024.1)\n",
      "Requirement already satisfied: tzdata>=2022.7 in c:\\users\\dimitris\\miniconda3\\envs\\condapy310\\lib\\site-packages (from pandas) (2024.1)\n",
      "Requirement already satisfied: six>=1.5 in c:\\users\\dimitris\\appdata\\roaming\\python\\python310\\site-packages (from python-dateutil>=2.8.2->pandas) (1.16.0)\n",
      "Requirement already satisfied: scipy in c:\\users\\dimitris\\miniconda3\\envs\\condapy310\\lib\\site-packages (1.13.1)\n",
      "Requirement already satisfied: numpy<2.3,>=1.22.4 in c:\\users\\dimitris\\miniconda3\\envs\\condapy310\\lib\\site-packages (from scipy) (1.26.3)\n",
      "Requirement already satisfied: timm in c:\\users\\dimitris\\miniconda3\\envs\\condapy310\\lib\\site-packages (1.0.3)\n",
      "Requirement already satisfied: torch in c:\\users\\dimitris\\miniconda3\\envs\\condapy310\\lib\\site-packages (from timm) (2.3.0+cu121)\n",
      "Requirement already satisfied: torchvision in c:\\users\\dimitris\\miniconda3\\envs\\condapy310\\lib\\site-packages (from timm) (0.18.0+cu121)\n",
      "Requirement already satisfied: pyyaml in c:\\users\\dimitris\\miniconda3\\envs\\condapy310\\lib\\site-packages (from timm) (6.0.1)\n",
      "Requirement already satisfied: huggingface_hub in c:\\users\\dimitris\\miniconda3\\envs\\condapy310\\lib\\site-packages (from timm) (0.23.2)\n",
      "Requirement already satisfied: safetensors in c:\\users\\dimitris\\miniconda3\\envs\\condapy310\\lib\\site-packages (from timm) (0.4.3)\n",
      "Requirement already satisfied: filelock in c:\\users\\dimitris\\miniconda3\\envs\\condapy310\\lib\\site-packages (from huggingface_hub->timm) (3.13.1)\n",
      "Requirement already satisfied: fsspec>=2023.5.0 in c:\\users\\dimitris\\miniconda3\\envs\\condapy310\\lib\\site-packages (from huggingface_hub->timm) (2024.2.0)\n",
      "Requirement already satisfied: packaging>=20.9 in c:\\users\\dimitris\\appdata\\roaming\\python\\python310\\site-packages (from huggingface_hub->timm) (24.0)\n",
      "Requirement already satisfied: requests in c:\\users\\dimitris\\miniconda3\\envs\\condapy310\\lib\\site-packages (from huggingface_hub->timm) (2.32.3)\n",
      "Requirement already satisfied: tqdm>=4.42.1 in c:\\users\\dimitris\\miniconda3\\envs\\condapy310\\lib\\site-packages (from huggingface_hub->timm) (4.66.4)\n",
      "Requirement already satisfied: typing-extensions>=3.7.4.3 in c:\\users\\dimitris\\miniconda3\\envs\\condapy310\\lib\\site-packages (from huggingface_hub->timm) (4.9.0)\n",
      "Requirement already satisfied: sympy in c:\\users\\dimitris\\miniconda3\\envs\\condapy310\\lib\\site-packages (from torch->timm) (1.12)\n",
      "Requirement already satisfied: networkx in c:\\users\\dimitris\\miniconda3\\envs\\condapy310\\lib\\site-packages (from torch->timm) (3.2.1)\n",
      "Requirement already satisfied: jinja2 in c:\\users\\dimitris\\miniconda3\\envs\\condapy310\\lib\\site-packages (from torch->timm) (3.1.3)\n",
      "Requirement already satisfied: mkl<=2021.4.0,>=2021.1.1 in c:\\users\\dimitris\\miniconda3\\envs\\condapy310\\lib\\site-packages (from torch->timm) (2021.4.0)\n",
      "Requirement already satisfied: numpy in c:\\users\\dimitris\\miniconda3\\envs\\condapy310\\lib\\site-packages (from torchvision->timm) (1.26.3)\n",
      "Requirement already satisfied: pillow!=8.3.*,>=5.3.0 in c:\\users\\dimitris\\miniconda3\\envs\\condapy310\\lib\\site-packages (from torchvision->timm) (10.2.0)\n",
      "Requirement already satisfied: intel-openmp==2021.* in c:\\users\\dimitris\\miniconda3\\envs\\condapy310\\lib\\site-packages (from mkl<=2021.4.0,>=2021.1.1->torch->timm) (2021.4.0)\n",
      "Requirement already satisfied: tbb==2021.* in c:\\users\\dimitris\\miniconda3\\envs\\condapy310\\lib\\site-packages (from mkl<=2021.4.0,>=2021.1.1->torch->timm) (2021.11.0)\n",
      "Requirement already satisfied: colorama in c:\\users\\dimitris\\appdata\\roaming\\python\\python310\\site-packages (from tqdm>=4.42.1->huggingface_hub->timm) (0.4.6)\n",
      "Requirement already satisfied: MarkupSafe>=2.0 in c:\\users\\dimitris\\miniconda3\\envs\\condapy310\\lib\\site-packages (from jinja2->torch->timm) (2.1.5)\n",
      "Requirement already satisfied: charset-normalizer<4,>=2 in c:\\users\\dimitris\\miniconda3\\envs\\condapy310\\lib\\site-packages (from requests->huggingface_hub->timm) (3.3.2)\n",
      "Requirement already satisfied: idna<4,>=2.5 in c:\\users\\dimitris\\miniconda3\\envs\\condapy310\\lib\\site-packages (from requests->huggingface_hub->timm) (3.7)\n",
      "Requirement already satisfied: urllib3<3,>=1.21.1 in c:\\users\\dimitris\\miniconda3\\envs\\condapy310\\lib\\site-packages (from requests->huggingface_hub->timm) (2.2.1)\n",
      "Requirement already satisfied: certifi>=2017.4.17 in c:\\users\\dimitris\\miniconda3\\envs\\condapy310\\lib\\site-packages (from requests->huggingface_hub->timm) (2024.6.2)\n",
      "Requirement already satisfied: mpmath>=0.19 in c:\\users\\dimitris\\miniconda3\\envs\\condapy310\\lib\\site-packages (from sympy->torch->timm) (1.3.0)\n",
      "Collecting tk\n",
      "  Downloading tk-0.1.0-py3-none-any.whl.metadata (693 bytes)\n",
      "Downloading tk-0.1.0-py3-none-any.whl (3.9 kB)\n",
      "Installing collected packages: tk\n",
      "Successfully installed tk-0.1.0\n"
     ]
    },
    {
     "name": "stderr",
     "output_type": "stream",
     "text": [
      "'apt-get' is not recognized as an internal or external command,\n",
      "operable program or batch file.\n"
     ]
    }
   ],
   "source": [
    "!pip install dropbox\n",
    "!pip install kafka-python \n",
    "!pip install msgpack\n",
    "!pip install simplejpeg\n",
    "!pip install pandas\n",
    "!pip install scipy\n",
    "!pip install timm\n",
    "!pip install tk\n",
    "!apt-get install python3-tk -y"
   ]
  }
 ],
 "metadata": {
  "kernelspec": {
   "display_name": "condapy310",
   "language": "python",
   "name": "python3"
  },
  "language_info": {
   "codemirror_mode": {
    "name": "ipython",
    "version": 3
   },
   "file_extension": ".py",
   "mimetype": "text/x-python",
   "name": "python",
   "nbconvert_exporter": "python",
   "pygments_lexer": "ipython3",
   "version": "3.10.14"
  }
 },
 "nbformat": 4,
 "nbformat_minor": 2
}
