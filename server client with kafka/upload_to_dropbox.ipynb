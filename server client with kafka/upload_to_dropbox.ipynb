{
 "cells": [
  {
   "cell_type": "code",
   "execution_count": null,
   "metadata": {},
   "outputs": [],
   "source": [
    "import dropbox\n",
    "import sys\n",
    "import os\n",
    "\n",
    "# Replace with your OAuth2 access token\n",
    "ACCESS_TOKEN = ''\n",
    "\n",
    "dbx = dropbox.Dropbox(ACCESS_TOKEN)\n",
    "\n",
    "\n",
    "\n",
    "\n",
    "def upload_file(file_path, destination_path):\n",
    "    try:\n",
    "        with open(file_path, 'rb') as file:\n",
    "            print(f\"Uploading {file_path} to Dropbox\")\n",
    "            dbx.files_upload(file.read(), destination_path)\n",
    "        \n",
    "        print(f\"File uploaded successfully to {destination_path}\")\n",
    "    except Exception as e:\n",
    "        print(f\"Error uploading file: {str(e)}\")\n",
    "\n",
    "\n",
    "\n",
    "file = 'test.txt'\n",
    "local_path = f'./{file}'\n",
    "dropbox_path = f'/ML datasets/{file}'\n",
    "\n",
    "if not os.path.exists(local_path):\n",
    "    print(f\"Error: File {local_path} does not exist.\")\n",
    "    sys.exit(1)\n",
    "\n",
    "upload_file(local_path, dropbox_path)\n"
   ]
  },
  {
   "cell_type": "code",
   "execution_count": null,
   "metadata": {},
   "outputs": [],
   "source": [
    "dbx.users_get_current_account()\n",
    "for entry in dbx.files_list_folder('/ML datasets').entries:\n",
    "    print(entry.name)\n",
    "\n",
    "file = 'test.txt'\n",
    "local_path = './' + file\n",
    "dropbox_path = '/ML datasets/'+file\n",
    "print(dropbox_path)"
   ]
  }
 ],
 "metadata": {
  "language_info": {
   "name": "python"
  }
 },
 "nbformat": 4,
 "nbformat_minor": 2
}
