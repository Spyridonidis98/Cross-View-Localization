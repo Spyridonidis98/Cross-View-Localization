{
 "cells": [
  {
   "cell_type": "code",
   "execution_count": null,
   "metadata": {},
   "outputs": [],
   "source": [
    "import dropbox\n",
    "import sys\n",
    "import os\n",
    "\n",
    "# Replace with your OAuth2 access token\n",
    "ACCESS_TOKEN = ''\n",
    "dbx = dropbox.Dropbox(ACCESS_TOKEN)\n",
    "\n",
    "# Define the chunk size (4MB)\n",
    "CHUNK_SIZE = 4 * 1024 * 1024\n",
    "\n",
    "def upload_large_file(file_path, destination_path):\n",
    "    try:\n",
    "\n",
    "        file_size = os.path.getsize(file_path)\n",
    "        \n",
    "        print(f\"Uploading {file_path} to Dropbox\")\n",
    "        print(f\"File size: {file_size} bytes\")\n",
    "        print(f\"Chunk size: {CHUNK_SIZE} bytes\")\n",
    "\n",
    "        with open(file_path, 'rb') as f:\n",
    "            upload_session_start_result = dbx.files_upload_session_start(f.read(CHUNK_SIZE))\n",
    "            cursor = dropbox.files.UploadSessionCursor(session_id=upload_session_start_result.session_id,\n",
    "                                                       offset=f.tell())\n",
    "            commit = dropbox.files.CommitInfo(path=destination_path)\n",
    "\n",
    "            while f.tell() < file_size:\n",
    "                if (file_size - f.tell()) <= CHUNK_SIZE:\n",
    "                    print(f\"Uploading last chunk of {file_path}\")\n",
    "                    dbx.files_upload_session_finish(f.read(CHUNK_SIZE),\n",
    "                                                    cursor,\n",
    "                                                    commit)\n",
    "                else:\n",
    "                    print(f\"Uploading chunk of {file_path}\")\n",
    "                    dbx.files_upload_session_append(f.read(CHUNK_SIZE),\n",
    "                                                    cursor.session_id,\n",
    "                                                    cursor.offset)\n",
    "                    cursor.offset = f.tell()\n",
    "                \n",
    "                # Print progress\n",
    "                progress = (f.tell() / file_size) * 100\n",
    "                print(f\"Upload progress: {progress:.2f}%\")\n",
    "\n",
    "        print(f\"File uploaded successfully to {destination_path}\")\n",
    "    except Exception as e:\n",
    "        print(f\"Error uploading file: {str(e)}\")\n",
    "\n",
    "\n",
    "    \n",
    "file = 'test.txt'\n",
    "local_path = f'./{file}'\n",
    "dropbox_path = f'/ML datasets/{file}'\n",
    "\n",
    "\n",
    "if not os.path.exists(local_path):\n",
    "    print(f\"Error: File {local_path} does not exist.\")\n",
    "    sys.exit(1)\n",
    "\n",
    "upload_large_file(local_path, dropbox_path)\n"
   ]
  },
  {
   "cell_type": "code",
   "execution_count": 5,
   "metadata": {},
   "outputs": [
    {
     "data": {
      "text/plain": [
       "FileMetadata(client_modified=datetime.datetime(2024, 9, 28, 21, 35, 31), content_hash='5a2c4ec5dbb1370fefba414b81cc7b7d209e923a4c420f74fb2bf0cc3a305719', export_info=NOT_SET, file_lock_info=NOT_SET, has_explicit_shared_members=NOT_SET, id='id:9Sm55dbVQTgAAAAAAAAMBw', is_downloadable=True, media_info=NOT_SET, name='test.txt', parent_shared_folder_id=NOT_SET, path_display='/test.txt', path_lower='/test.txt', preview_url=NOT_SET, property_groups=NOT_SET, rev='62334c0819aea73fb1b51', server_modified=datetime.datetime(2024, 9, 28, 21, 35, 35), sharing_info=NOT_SET, size=16, symlink_info=NOT_SET)"
      ]
     },
     "execution_count": 5,
     "metadata": {},
     "output_type": "execute_result"
    }
   ],
   "source": [
    "# download\n",
    "import dropbox\n",
    "\n",
    "\n",
    "# Replace with your OAuth2 access token\n",
    "ACCESS_TOKEN = ''\n",
    "dbx = dropbox.Dropbox(ACCESS_TOKEN)\n",
    "\n",
    "file = 'test.txt'\n",
    "local_path = f'./{file}'\n",
    "dropbox_path = f'/{file}'\n",
    "# dropbox_path = f'/ML datasets/Ford/2017-10-26/V2/Log1/{file}'\n",
    "\n",
    "\n",
    "dbx.files_download_to_file(local_path, dropbox_path)\n"
   ]
  },
  {
   "cell_type": "code",
   "execution_count": null,
   "metadata": {},
   "outputs": [],
   "source": [
    "\n",
    "\n",
    "\n",
    "\n",
    "dbx.users_get_current_account()\n",
    "for entry in dbx.files_list_folder('/ML datasets').entries:\n",
    "    print(entry.name)\n",
    "\n",
    "file = 'test.txt'\n",
    "local_path = './' + file\n",
    "dropbox_path = '/ML datasets/'+file\n",
    "print(dropbox_path)"
   ]
  }
 ],
 "metadata": {
  "kernelspec": {
   "display_name": "condapy310",
   "language": "python",
   "name": "python3"
  },
  "language_info": {
   "codemirror_mode": {
    "name": "ipython",
    "version": 3
   },
   "file_extension": ".py",
   "mimetype": "text/x-python",
   "name": "python",
   "nbconvert_exporter": "python",
   "pygments_lexer": "ipython3",
   "version": "3.10.14"
  }
 },
 "nbformat": 4,
 "nbformat_minor": 2
}
