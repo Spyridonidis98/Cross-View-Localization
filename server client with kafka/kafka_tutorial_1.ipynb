{
 "cells": [
  {
   "cell_type": "code",
   "execution_count": null,
   "metadata": {},
   "outputs": [],
   "source": [
    "# first set up the and run the kafka server also install kafka-python. The commands can be found in 'kakfa commands.txt'\n",
    "\n",
    "from kafka import KafkaAdminClient\n",
    "from kafka.admin import NewTopic\n",
    "\n",
    "# Create an instance of KafkaAdminClient\n",
    "admin_client = KafkaAdminClient(\n",
    "    bootstrap_servers=\"localhost:9092\",  # Update with your Kafka broker(s)\n",
    "    client_id='my_client'\n",
    ")\n",
    "\n",
    "topic_name = 'my_first_topic'\n",
    "\n",
    "num_partitions = 2\n",
    "replication_factor = 1\n",
    "topic_configs = {\"retention.ms\": str(60000), # all messages that are older than 10 min in the topic get deleted\n",
    "                 \"retention.bytes\": str(int(100e6)), #when the messages in the topic exide 100 MB old messages get deleted \n",
    "                 'max.message.bytes': str(int(5e6))} #max allowed size in MB of each message set to 5MB \n",
    "\n",
    "my_first_topic = NewTopic(name=topic_name, num_partitions=num_partitions,\n",
    "                           replication_factor=replication_factor,\n",
    "                           topic_configs=topic_configs)\n",
    "\n",
    "admin_client.create_topics(new_topics=[my_first_topic])\n",
    "\n",
    "# List all topics\n",
    "topics = admin_client.list_topics()\n",
    "print(\"Topics:\", topics)\n",
    "\n",
    "\n"
   ]
  },
  {
   "cell_type": "code",
   "execution_count": 123,
   "metadata": {},
   "outputs": [
    {
     "data": {
      "text/plain": [
       "[(0,\n",
       "  '',\n",
       "  2,\n",
       "  'my_first_topic',\n",
       "  [('compression.type', 'producer', False, 5, False, []),\n",
       "   ('leader.replication.throttled.replicas', '', False, 5, False, []),\n",
       "   ('message.downconversion.enable', 'true', False, 5, False, []),\n",
       "   ('min.insync.replicas', '1', False, 5, False, []),\n",
       "   ('segment.jitter.ms', '0', False, 5, False, []),\n",
       "   ('cleanup.policy', 'delete', False, 5, False, []),\n",
       "   ('flush.ms', '9223372036854775807', False, 5, False, []),\n",
       "   ('follower.replication.throttled.replicas', '', False, 5, False, []),\n",
       "   ('segment.bytes', '1073741824', False, 5, False, []),\n",
       "   ('retention.ms', '60000', False, 1, False, []),\n",
       "   ('flush.messages', '9223372036854775807', False, 5, False, []),\n",
       "   ('message.format.version', '3.0-IV1', False, 5, False, []),\n",
       "   ('max.compaction.lag.ms', '9223372036854775807', False, 5, False, []),\n",
       "   ('file.delete.delay.ms', '60000', False, 5, False, []),\n",
       "   ('max.message.bytes', '5000000', False, 1, False, []),\n",
       "   ('min.compaction.lag.ms', '0', False, 5, False, []),\n",
       "   ('message.timestamp.type', 'CreateTime', False, 5, False, []),\n",
       "   ('preallocate', 'false', False, 5, False, []),\n",
       "   ('min.cleanable.dirty.ratio', '0.5', False, 5, False, []),\n",
       "   ('index.interval.bytes', '4096', False, 5, False, []),\n",
       "   ('unclean.leader.election.enable', 'false', False, 5, False, []),\n",
       "   ('retention.bytes', '100000000', False, 1, False, []),\n",
       "   ('delete.retention.ms', '86400000', False, 5, False, []),\n",
       "   ('segment.ms', '604800000', False, 5, False, []),\n",
       "   ('message.timestamp.difference.max.ms',\n",
       "    '9223372036854775807',\n",
       "    False,\n",
       "    5,\n",
       "    False,\n",
       "    []),\n",
       "   ('segment.index.bytes', '10485760', False, 5, False, [])])]"
      ]
     },
     "execution_count": 123,
     "metadata": {},
     "output_type": "execute_result"
    }
   ],
   "source": [
    "from kafka.admin import ConfigResource, ConfigResourceType\n",
    "\n",
    "config_resource = ConfigResource(ConfigResourceType.TOPIC, topic_name)\n",
    "\n",
    "configs = admin_client.describe_configs([config_resource])\n",
    "# admin_client.alter_configs({config_resource: new_config})\n",
    "\n",
    "configs[0].get_item('resources')\n"
   ]
  },
  {
   "cell_type": "code",
   "execution_count": 154,
   "metadata": {},
   "outputs": [
    {
     "name": "stdout",
     "output_type": "stream",
     "text": [
      "Sent: data = {'key': 'value0', 'key2': 'value0'}, partition = 0\n",
      "Sent: data = {'key': 'value1', 'key2': 'value1'}, partition = 0\n",
      "Sent: data = {'key': 'value2', 'key2': 'value2'}, partition = 0\n"
     ]
    },
    {
     "ename": "AssertionError",
     "evalue": "Unrecognized partition",
     "output_type": "error",
     "traceback": [
      "\u001b[0;31m---------------------------------------------------------------------------\u001b[0m",
      "\u001b[0;31mAssertionError\u001b[0m                            Traceback (most recent call last)",
      "Cell \u001b[0;32mIn[154], line 16\u001b[0m\n\u001b[1;32m     14\u001b[0m     data \u001b[38;5;241m=\u001b[39m {\u001b[38;5;124mf\u001b[39m\u001b[38;5;124m'\u001b[39m\u001b[38;5;124mkey\u001b[39m\u001b[38;5;124m'\u001b[39m: \u001b[38;5;124mf\u001b[39m\u001b[38;5;124m'\u001b[39m\u001b[38;5;124mvalue\u001b[39m\u001b[38;5;132;01m{\u001b[39;00mi\u001b[38;5;132;01m}\u001b[39;00m\u001b[38;5;124m'\u001b[39m, \u001b[38;5;124mf\u001b[39m\u001b[38;5;124m'\u001b[39m\u001b[38;5;124mkey2\u001b[39m\u001b[38;5;124m'\u001b[39m: \u001b[38;5;124mf\u001b[39m\u001b[38;5;124m'\u001b[39m\u001b[38;5;124mvalue\u001b[39m\u001b[38;5;132;01m{\u001b[39;00mi\u001b[38;5;132;01m}\u001b[39;00m\u001b[38;5;124m'\u001b[39m}\n\u001b[1;32m     15\u001b[0m     \u001b[38;5;66;03m# send asyncronously with callbacks \u001b[39;00m\n\u001b[0;32m---> 16\u001b[0m     \u001b[43mproducer\u001b[49m\u001b[38;5;241;43m.\u001b[39;49m\u001b[43msend\u001b[49m\u001b[43m(\u001b[49m\u001b[43mtopic_name\u001b[49m\u001b[43m,\u001b[49m\u001b[43m \u001b[49m\u001b[43mvalue\u001b[49m\u001b[38;5;241;43m=\u001b[39;49m\u001b[43mdata\u001b[49m\u001b[43m,\u001b[49m\u001b[43m \u001b[49m\u001b[43mpartition\u001b[49m\u001b[38;5;241;43m=\u001b[39;49m\u001b[38;5;241;43m1\u001b[39;49m\u001b[43m)\u001b[49m\u001b[38;5;66;03m# the data is sent to the topic, in a specific partition , if the topic dosent exist it is created \u001b[39;00m\n\u001b[1;32m     17\u001b[0m     \u001b[38;5;28mprint\u001b[39m(\u001b[38;5;124mf\u001b[39m\u001b[38;5;124m\"\u001b[39m\u001b[38;5;124mSent: data = \u001b[39m\u001b[38;5;132;01m{\u001b[39;00mdata\u001b[38;5;132;01m}\u001b[39;00m\u001b[38;5;124m, partition = 1\u001b[39m\u001b[38;5;124m\"\u001b[39m)\n\u001b[1;32m     20\u001b[0m \u001b[38;5;66;03m# future = producer.send(topic_name, b'another_message')\u001b[39;00m\n\u001b[1;32m     21\u001b[0m \u001b[38;5;66;03m# result = future.get(timeout=60)\u001b[39;00m\n\u001b[1;32m     22\u001b[0m \n\u001b[1;32m     23\u001b[0m \u001b[38;5;66;03m# block until all async messages are sent \u001b[39;00m\n",
      "File \u001b[0;32m~/miniconda3/envs/condapy310/lib/python3.10/site-packages/kafka/producer/kafka.py:587\u001b[0m, in \u001b[0;36mKafkaProducer.send\u001b[0;34m(self, topic, value, key, headers, partition, timestamp_ms)\u001b[0m\n\u001b[1;32m    584\u001b[0m \u001b[38;5;28;01massert\u001b[39;00m \u001b[38;5;28mtype\u001b[39m(key_bytes) \u001b[38;5;129;01min\u001b[39;00m (\u001b[38;5;28mbytes\u001b[39m, \u001b[38;5;28mbytearray\u001b[39m, \u001b[38;5;28mmemoryview\u001b[39m, \u001b[38;5;28mtype\u001b[39m(\u001b[38;5;28;01mNone\u001b[39;00m))\n\u001b[1;32m    585\u001b[0m \u001b[38;5;28;01massert\u001b[39;00m \u001b[38;5;28mtype\u001b[39m(value_bytes) \u001b[38;5;129;01min\u001b[39;00m (\u001b[38;5;28mbytes\u001b[39m, \u001b[38;5;28mbytearray\u001b[39m, \u001b[38;5;28mmemoryview\u001b[39m, \u001b[38;5;28mtype\u001b[39m(\u001b[38;5;28;01mNone\u001b[39;00m))\n\u001b[0;32m--> 587\u001b[0m partition \u001b[38;5;241m=\u001b[39m \u001b[38;5;28;43mself\u001b[39;49m\u001b[38;5;241;43m.\u001b[39;49m\u001b[43m_partition\u001b[49m\u001b[43m(\u001b[49m\u001b[43mtopic\u001b[49m\u001b[43m,\u001b[49m\u001b[43m \u001b[49m\u001b[43mpartition\u001b[49m\u001b[43m,\u001b[49m\u001b[43m \u001b[49m\u001b[43mkey\u001b[49m\u001b[43m,\u001b[49m\u001b[43m \u001b[49m\u001b[43mvalue\u001b[49m\u001b[43m,\u001b[49m\n\u001b[1;32m    588\u001b[0m \u001b[43m                            \u001b[49m\u001b[43mkey_bytes\u001b[49m\u001b[43m,\u001b[49m\u001b[43m \u001b[49m\u001b[43mvalue_bytes\u001b[49m\u001b[43m)\u001b[49m\n\u001b[1;32m    590\u001b[0m \u001b[38;5;28;01mif\u001b[39;00m headers \u001b[38;5;129;01mis\u001b[39;00m \u001b[38;5;28;01mNone\u001b[39;00m:\n\u001b[1;32m    591\u001b[0m     headers \u001b[38;5;241m=\u001b[39m []\n",
      "File \u001b[0;32m~/miniconda3/envs/condapy310/lib/python3.10/site-packages/kafka/producer/kafka.py:720\u001b[0m, in \u001b[0;36mKafkaProducer._partition\u001b[0;34m(self, topic, partition, key, value, serialized_key, serialized_value)\u001b[0m\n\u001b[1;32m    718\u001b[0m \u001b[38;5;28;01mif\u001b[39;00m partition \u001b[38;5;129;01mis\u001b[39;00m \u001b[38;5;129;01mnot\u001b[39;00m \u001b[38;5;28;01mNone\u001b[39;00m:\n\u001b[1;32m    719\u001b[0m     \u001b[38;5;28;01massert\u001b[39;00m partition \u001b[38;5;241m>\u001b[39m\u001b[38;5;241m=\u001b[39m \u001b[38;5;241m0\u001b[39m\n\u001b[0;32m--> 720\u001b[0m     \u001b[38;5;28;01massert\u001b[39;00m partition \u001b[38;5;129;01min\u001b[39;00m \u001b[38;5;28mself\u001b[39m\u001b[38;5;241m.\u001b[39m_metadata\u001b[38;5;241m.\u001b[39mpartitions_for_topic(topic), \u001b[38;5;124m'\u001b[39m\u001b[38;5;124mUnrecognized partition\u001b[39m\u001b[38;5;124m'\u001b[39m\n\u001b[1;32m    721\u001b[0m     \u001b[38;5;28;01mreturn\u001b[39;00m partition\n\u001b[1;32m    723\u001b[0m all_partitions \u001b[38;5;241m=\u001b[39m \u001b[38;5;28msorted\u001b[39m(\u001b[38;5;28mself\u001b[39m\u001b[38;5;241m.\u001b[39m_metadata\u001b[38;5;241m.\u001b[39mpartitions_for_topic(topic))\n",
      "\u001b[0;31mAssertionError\u001b[0m: Unrecognized partition"
     ]
    }
   ],
   "source": [
    "from kafka import KafkaProducer\n",
    "import json\n",
    "\n",
    "producer = KafkaProducer(bootstrap_servers=['localhost:9092'],\n",
    "                         value_serializer=lambda v: json.dumps(v).encode('utf-8'))\n",
    "\n",
    "for i in range(3):\n",
    "    data = {f'key': f'value{i}', f'key2': f'value{i}'}\n",
    "    # send asyncronously with callbacks \n",
    "    producer.send(topic_name, value=data, partition=0)# the data is sent to the topic, in a specific partition , if the topic dosent exist it is created \n",
    "    print(f\"Sent: data = {data}, partition = 0\")\n",
    "\n",
    "for i in range(3):\n",
    "    data = {f'key': f'value{i}', f'key2': f'value{i}'}\n",
    "    # send asyncronously with callbacks \n",
    "    producer.send(topic_name, value=data, partition=1)# the data is sent to the topic, in a specific partition , if the topic dosent exist it is created \n",
    "    print(f\"Sent: data = {data}, partition = 1\")\n",
    "\n",
    "\n",
    "# future = producer.send(topic_name, b'another_message')\n",
    "# result = future.get(timeout=60)\n",
    "\n",
    "# block until all async messages are sent \n",
    "producer.flush()"
   ]
  },
  {
   "cell_type": "code",
   "execution_count": 163,
   "metadata": {},
   "outputs": [
    {
     "ename": "StopIteration",
     "evalue": "",
     "output_type": "error",
     "traceback": [
      "\u001b[0;31m---------------------------------------------------------------------------\u001b[0m",
      "\u001b[0;31mStopIteration\u001b[0m                             Traceback (most recent call last)",
      "Cell \u001b[0;32mIn[163], line 16\u001b[0m\n\u001b[1;32m     13\u001b[0m tp2 \u001b[38;5;241m=\u001b[39m TopicPartition(topic_name, \u001b[38;5;241m1\u001b[39m)\n\u001b[1;32m     14\u001b[0m consumer\u001b[38;5;241m.\u001b[39massign([tp1, tp2])\n\u001b[0;32m---> 16\u001b[0m msg \u001b[38;5;241m=\u001b[39m \u001b[38;5;28;43mnext\u001b[39;49m\u001b[43m(\u001b[49m\u001b[43mconsumer\u001b[49m\u001b[43m)\u001b[49m\n\u001b[1;32m     17\u001b[0m \u001b[38;5;28mprint\u001b[39m(msg\u001b[38;5;241m.\u001b[39mvalue)\n\u001b[1;32m     19\u001b[0m \u001b[38;5;66;03m# try:\u001b[39;00m\n\u001b[1;32m     20\u001b[0m \u001b[38;5;66;03m#     msg = next(consumer)\u001b[39;00m\n\u001b[1;32m     21\u001b[0m \u001b[38;5;66;03m#     print(msg.value)\u001b[39;00m\n\u001b[1;32m     22\u001b[0m \u001b[38;5;66;03m# except:\u001b[39;00m\n\u001b[1;32m     23\u001b[0m \u001b[38;5;66;03m#     print('no data recieved')\u001b[39;00m\n",
      "File \u001b[0;32m~/miniconda3/envs/condapy310/lib/python3.10/site-packages/kafka/consumer/group.py:1193\u001b[0m, in \u001b[0;36mKafkaConsumer.__next__\u001b[0;34m(self)\u001b[0m\n\u001b[1;32m   1191\u001b[0m     \u001b[38;5;28;01mreturn\u001b[39;00m \u001b[38;5;28mself\u001b[39m\u001b[38;5;241m.\u001b[39mnext_v1()\n\u001b[1;32m   1192\u001b[0m \u001b[38;5;28;01melse\u001b[39;00m:\n\u001b[0;32m-> 1193\u001b[0m     \u001b[38;5;28;01mreturn\u001b[39;00m \u001b[38;5;28;43mself\u001b[39;49m\u001b[38;5;241;43m.\u001b[39;49m\u001b[43mnext_v2\u001b[49m\u001b[43m(\u001b[49m\u001b[43m)\u001b[49m\n",
      "File \u001b[0;32m~/miniconda3/envs/condapy310/lib/python3.10/site-packages/kafka/consumer/group.py:1204\u001b[0m, in \u001b[0;36mKafkaConsumer.next_v2\u001b[0;34m(self)\u001b[0m\n\u001b[1;32m   1202\u001b[0m     \u001b[38;5;28;01mexcept\u001b[39;00m \u001b[38;5;167;01mStopIteration\u001b[39;00m:\n\u001b[1;32m   1203\u001b[0m         \u001b[38;5;28mself\u001b[39m\u001b[38;5;241m.\u001b[39m_iterator \u001b[38;5;241m=\u001b[39m \u001b[38;5;28;01mNone\u001b[39;00m\n\u001b[0;32m-> 1204\u001b[0m \u001b[38;5;28;01mraise\u001b[39;00m \u001b[38;5;167;01mStopIteration\u001b[39;00m()\n",
      "\u001b[0;31mStopIteration\u001b[0m: "
     ]
    }
   ],
   "source": [
    "from kafka import KafkaConsumer, TopicPartition\n",
    "\n",
    "import json\n",
    "\n",
    "consumer = KafkaConsumer(#topic = topic_name,\n",
    "                         bootstrap_servers=['localhost:9092'],\n",
    "                         auto_offset_reset='earliest', #will start consuming from the first message in the topic \n",
    "                         value_deserializer = lambda x: json.loads(x.decode(\"utf-8\")),\n",
    "                          consumer_timeout_ms=1000 #stop consumer from waiting for messages after 1000ms \n",
    "                         )\n",
    "\n",
    "tp1 = TopicPartition(topic_name, 0)\n",
    "tp2 = TopicPartition(topic_name, 1)\n",
    "consumer.assign([tp1, tp2])\n",
    "\n",
    "# msg = next(consumer)\n",
    "# print(msg.value)\n",
    "# must use try except or get raise StopIteration() error when time out occurs \n",
    "\n",
    "\n",
    "# try:\n",
    "#     msg = next(consumer)\n",
    "#     print(msg.value)\n",
    "# except:\n",
    "#     print('no data recieved')\n",
    "\n",
    "for message in consumer: #consumer will bring all events from the start end then wait for the next event to happend untill it time outs after 1000ms \n",
    "    print(f\"Received Value: {message.value}, Key:{message.key}, offset: {message.offset}, partition:{message.partition}\")\n",
    "\n"
   ]
  },
  {
   "cell_type": "code",
   "execution_count": 159,
   "metadata": {},
   "outputs": [
    {
     "data": {
      "text/plain": [
       "DeleteTopicsResponse_v3(throttle_time_ms=0, topic_error_codes=[(topic='my_first_topic', error_code=0)])"
      ]
     },
     "execution_count": 159,
     "metadata": {},
     "output_type": "execute_result"
    }
   ],
   "source": [
    "admin_client.delete_topics(topics=[topic_name])"
   ]
  }
 ],
 "metadata": {
  "kernelspec": {
   "display_name": "condapy37",
   "language": "python",
   "name": "python3"
  },
  "language_info": {
   "codemirror_mode": {
    "name": "ipython",
    "version": 3
   },
   "file_extension": ".py",
   "mimetype": "text/x-python",
   "name": "python",
   "nbconvert_exporter": "python",
   "pygments_lexer": "ipython3",
   "version": "3.10.14"
  }
 },
 "nbformat": 4,
 "nbformat_minor": 2
}
