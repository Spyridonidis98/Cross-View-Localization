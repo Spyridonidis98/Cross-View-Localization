{
 "cells": [
  {
   "cell_type": "code",
   "execution_count": 13,
   "metadata": {},
   "outputs": [
    {
     "name": "stdout",
     "output_type": "stream",
     "text": [
      "topic: my_first_topic already existed\n",
      "Topics: ['my_first_topic']\n"
     ]
    }
   ],
   "source": [
    "# first set up the and run the kafka server also install kafka-python. The commands can be found in 'kakfa commands.txt'\n",
    "\n",
    "from kafka import KafkaAdminClient\n",
    "from kafka.admin import NewTopic\n",
    "\n",
    "# Create an instance of KafkaAdminClient\n",
    "admin_client = KafkaAdminClient(\n",
    "    bootstrap_servers=\"localhost:9092\",  # Update with your Kafka broker(s)\n",
    "    client_id='my_client'\n",
    ")\n",
    "\n",
    "topic_name = 'my_first_topic'\n",
    "\n",
    "num_partitions = 2\n",
    "replication_factor = 1\n",
    "topic_configs = {\"retention.ms\": str(60000), # all messages that are older than 10 min in the topic get deleted\n",
    "                 \"retention.bytes\": str(int(100e6)), #when the messages in the topic exide 100 MB old messages get deleted \n",
    "                 'max.message.bytes': str(int(5e6))} #max allowed size in MB of each message set to 5MB \n",
    "\n",
    "try:\n",
    "    my_first_topic = NewTopic(name=topic_name, num_partitions=num_partitions,\n",
    "                            replication_factor=replication_factor,\n",
    "                            topic_configs=topic_configs)\n",
    "\n",
    "    admin_client.create_topics(new_topics=[my_first_topic])\n",
    "    print(f'created topic: {topic_name}')\n",
    "except:\n",
    "    print(f'topic: {topic_name} already existed')\n",
    "# List all topics\n",
    "topics = admin_client.list_topics()\n",
    "print(\"Topics:\", topics)\n",
    "\n",
    "\n"
   ]
  },
  {
   "cell_type": "code",
   "execution_count": 5,
   "metadata": {},
   "outputs": [
    {
     "data": {
      "text/plain": [
       "[(0,\n",
       "  '',\n",
       "  2,\n",
       "  'my_first_topic',\n",
       "  [('compression.type', 'producer', False, 5, False, []),\n",
       "   ('leader.replication.throttled.replicas', '', False, 5, False, []),\n",
       "   ('message.downconversion.enable', 'true', False, 5, False, []),\n",
       "   ('min.insync.replicas', '1', False, 5, False, []),\n",
       "   ('segment.jitter.ms', '0', False, 5, False, []),\n",
       "   ('cleanup.policy', 'delete', False, 5, False, []),\n",
       "   ('flush.ms', '9223372036854775807', False, 5, False, []),\n",
       "   ('follower.replication.throttled.replicas', '', False, 5, False, []),\n",
       "   ('segment.bytes', '1073741824', False, 5, False, []),\n",
       "   ('retention.ms', '60000', False, 1, False, []),\n",
       "   ('flush.messages', '9223372036854775807', False, 5, False, []),\n",
       "   ('message.format.version', '3.0-IV1', False, 5, False, []),\n",
       "   ('max.compaction.lag.ms', '9223372036854775807', False, 5, False, []),\n",
       "   ('file.delete.delay.ms', '60000', False, 5, False, []),\n",
       "   ('max.message.bytes', '5000000', False, 1, False, []),\n",
       "   ('min.compaction.lag.ms', '0', False, 5, False, []),\n",
       "   ('message.timestamp.type', 'CreateTime', False, 5, False, []),\n",
       "   ('preallocate', 'false', False, 5, False, []),\n",
       "   ('min.cleanable.dirty.ratio', '0.5', False, 5, False, []),\n",
       "   ('index.interval.bytes', '4096', False, 5, False, []),\n",
       "   ('unclean.leader.election.enable', 'false', False, 5, False, []),\n",
       "   ('retention.bytes', '100000000', False, 1, False, []),\n",
       "   ('delete.retention.ms', '86400000', False, 5, False, []),\n",
       "   ('segment.ms', '604800000', False, 5, False, []),\n",
       "   ('message.timestamp.difference.max.ms',\n",
       "    '9223372036854775807',\n",
       "    False,\n",
       "    5,\n",
       "    False,\n",
       "    []),\n",
       "   ('segment.index.bytes', '10485760', False, 5, False, [])])]"
      ]
     },
     "execution_count": 5,
     "metadata": {},
     "output_type": "execute_result"
    }
   ],
   "source": [
    "from kafka.admin import ConfigResource, ConfigResourceType\n",
    "\n",
    "config_resource = ConfigResource(ConfigResourceType.TOPIC, topic_name)\n",
    "\n",
    "configs = admin_client.describe_configs([config_resource])\n",
    "# admin_client.alter_configs({config_resource: new_config})\n",
    "\n",
    "configs[0].get_item('resources')\n"
   ]
  },
  {
   "cell_type": "code",
   "execution_count": 6,
   "metadata": {},
   "outputs": [
    {
     "name": "stdout",
     "output_type": "stream",
     "text": [
      "Sent: data = {'key': 'value0', 'key2': 'value0'}, partition = 0\n",
      "Sent: data = {'key': 'value1', 'key2': 'value1'}, partition = 0\n",
      "Sent: data = {'key': 'value2', 'key2': 'value2'}, partition = 0\n",
      "Sent: data = {'key': 'value0', 'key2': 'value0'}, partition = 1\n",
      "Sent: data = {'key': 'value1', 'key2': 'value1'}, partition = 1\n",
      "Sent: data = {'key': 'value2', 'key2': 'value2'}, partition = 1\n"
     ]
    }
   ],
   "source": [
    "from kafka import KafkaProducer\n",
    "import json\n",
    "\n",
    "producer = KafkaProducer(bootstrap_servers=['localhost:9092'],\n",
    "                         value_serializer=lambda v: json.dumps(v).encode('utf-8'))\n",
    "\n",
    "for i in range(3):\n",
    "    data = {f'key': f'value{i}', f'key2': f'value{i}'}\n",
    "    # send asyncronously with callbacks \n",
    "    producer.send(topic_name, value=data, partition=0)# the data is sent to the topic, in a specific partition , if the topic dosent exist it is created \n",
    "    print(f\"Sent: data = {data}, partition = 0\")\n",
    "\n",
    "for i in range(3):\n",
    "    data = {f'key': f'value{i}', f'key2': f'value{i}'}\n",
    "    # send asyncronously with callbacks \n",
    "    producer.send(topic_name, value=data, partition=1)# the data is sent to the topic, in a specific partition , if the topic dosent exist it is created \n",
    "    print(f\"Sent: data = {data}, partition = 1\")\n",
    "\n",
    "\n",
    "# future = producer.send(topic_name, b'another_message')\n",
    "# result = future.get(timeout=60)\n",
    "\n",
    "# block until all async messages are sent \n",
    "producer.flush()"
   ]
  },
  {
   "cell_type": "code",
   "execution_count": 9,
   "metadata": {},
   "outputs": [
    {
     "name": "stdout",
     "output_type": "stream",
     "text": [
      "Received Value: {'key': 'value0', 'key2': 'value0'}, Key:None, offset: 0, partition:0\n",
      "Received Value: {'key': 'value1', 'key2': 'value1'}, Key:None, offset: 1, partition:0\n",
      "Received Value: {'key': 'value2', 'key2': 'value2'}, Key:None, offset: 2, partition:0\n",
      "Received Value: {'key': 'value0', 'key2': 'value0'}, Key:None, offset: 0, partition:1\n",
      "Received Value: {'key': 'value1', 'key2': 'value1'}, Key:None, offset: 1, partition:1\n",
      "Received Value: {'key': 'value2', 'key2': 'value2'}, Key:None, offset: 2, partition:1\n"
     ]
    }
   ],
   "source": [
    "from kafka import KafkaConsumer, TopicPartition\n",
    "\n",
    "import json\n",
    "\n",
    "consumer = KafkaConsumer(#topic = topic_name,\n",
    "                         bootstrap_servers=['localhost:9092'],\n",
    "                         auto_offset_reset='earliest', #will start consuming from the first message in the topic \n",
    "                         value_deserializer = lambda x: json.loads(x.decode(\"utf-8\")),\n",
    "                          consumer_timeout_ms=1000 #stop consumer from waiting for messages after 1000ms \n",
    "                         )\n",
    "\n",
    "tp1 = TopicPartition(topic_name, 0)\n",
    "tp2 = TopicPartition(topic_name, 1)\n",
    "consumer.assign([tp1, tp2])\n",
    "\n",
    "# msg = next(consumer)\n",
    "# print(msg.value)\n",
    "# must use try except or get raise StopIteration() error when time out occurs \n",
    "\n",
    "\n",
    "# try:\n",
    "#     msg = next(consumer)\n",
    "#     print(msg.value)\n",
    "# except:\n",
    "#     print('no data recieved')\n",
    "\n",
    "for message in consumer: #consumer will bring all events from the start end then wait for the next event to happend untill it time outs after 1000ms \n",
    "    print(f\"Received Value: {message.value}, Key:{message.key}, offset: {message.offset}, partition:{message.partition}\")\n",
    "\n"
   ]
  },
  {
   "cell_type": "code",
   "execution_count": 11,
   "metadata": {},
   "outputs": [
    {
     "data": {
      "text/plain": [
       "DeleteTopicsResponse_v3(throttle_time_ms=0, topic_error_codes=[(topic='my_first_topic', error_code=0)])"
      ]
     },
     "execution_count": 11,
     "metadata": {},
     "output_type": "execute_result"
    }
   ],
   "source": [
    "admin_client.delete_topics(topics=[topic_name])"
   ]
  }
 ],
 "metadata": {
  "kernelspec": {
   "display_name": "condapy37",
   "language": "python",
   "name": "python3"
  },
  "language_info": {
   "codemirror_mode": {
    "name": "ipython",
    "version": 3
   },
   "file_extension": ".py",
   "mimetype": "text/x-python",
   "name": "python",
   "nbconvert_exporter": "python",
   "pygments_lexer": "ipython3",
   "version": "3.10.13"
  }
 },
 "nbformat": 4,
 "nbformat_minor": 2
}
