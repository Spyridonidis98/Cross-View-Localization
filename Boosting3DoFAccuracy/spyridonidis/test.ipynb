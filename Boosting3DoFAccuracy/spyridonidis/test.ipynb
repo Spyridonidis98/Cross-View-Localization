{
 "cells": [
  {
   "cell_type": "code",
   "execution_count": 2,
   "metadata": {},
   "outputs": [],
   "source": [
    "import os \n",
    "os.chdir('../')\n",
    "import torch \n",
    "\n",
    "from VGG import Unet\n",
    "        "
   ]
  },
  {
   "cell_type": "code",
   "execution_count": 5,
   "metadata": {},
   "outputs": [],
   "source": [
    "\n",
    "net = Unet(128).cuda()\n",
    "A = torch.ones((8, 128, 256, 256, 8)).cuda()\n"
   ]
  },
  {
   "cell_type": "code",
   "execution_count": 6,
   "metadata": {},
   "outputs": [],
   "source": [
    "out = net(A)"
   ]
  },
  {
   "cell_type": "code",
   "execution_count": 10,
   "metadata": {},
   "outputs": [
    {
     "data": {
      "text/plain": [
       "torch.Size([8, 128, 256, 256])"
      ]
     },
     "execution_count": 10,
     "metadata": {},
     "output_type": "execute_result"
    }
   ],
   "source": [
    "import torch\n",
    "import torch.nn as nn\n",
    "import torch.nn.functional as F\n",
    "\n",
    "class Conv2d(nn.Module):\n",
    "    def __init__(\n",
    "        self, n_channels, out_channels, kernel_size, dilation=1, padding=0, stride=1\n",
    "    ):\n",
    "        super().__init__()\n",
    "\n",
    "        self.kernel_size = kernel_size\n",
    "        self.kernel_size_number = kernel_size * kernel_size\n",
    "        self.out_channels = out_channels\n",
    "        self.padding = padding\n",
    "        self.dilation = dilation\n",
    "        self.stride = stride\n",
    "        self.n_channels = n_channels\n",
    "        self.weights = nn.Parameter(\n",
    "            torch.Tensor(self.out_channels, self.n_channels, self.kernel_size**2)\n",
    "        )\n",
    "\n",
    "    def __repr__(self):\n",
    "        return (\n",
    "            f\"Conv2d(n_channels={self.n_channels}, out_channels={self.out_channels}, \"\n",
    "            f\"kernel_size={self.kernel_size})\"\n",
    "        )\n",
    "\n",
    "    def forward(self, x):\n",
    "        width = self.calculate_new_width(x)\n",
    "        height = self.calculate_new_height(x)\n",
    "        windows = self.calculate_windows(x)\n",
    "\n",
    "        result = torch.zeros(\n",
    "            [x.shape[0] * self.out_channels, width, height],\n",
    "            dtype=torch.float32, device=x.device\n",
    "        )\n",
    "\n",
    "        for channel in range(x.shape[1]):\n",
    "            for i_conv_n in range(self.out_channels):\n",
    "                xx = torch.matmul(windows[channel], self.weights[i_conv_n][channel])\n",
    "                xx = xx.view((-1, width, height))\n",
    "\n",
    "                xx_stride = slice(i_conv_n * xx.shape[0], (i_conv_n + 1) * xx.shape[0])\n",
    "                result[xx_stride] += xx\n",
    "\n",
    "        result = result.view((x.shape[0], self.out_channels, width, height))\n",
    "        return result\n",
    "\n",
    "    def calculate_windows(self, x):\n",
    "        windows = F.unfold(\n",
    "            x,\n",
    "            kernel_size=(self.kernel_size, self.kernel_size),\n",
    "            padding=(self.padding, self.padding),\n",
    "            dilation=(self.dilation, self.dilation),\n",
    "            stride=(self.stride, self.stride)\n",
    "        )\n",
    "\n",
    "        windows = (windows\n",
    "            .transpose(1, 2)\n",
    "            .contiguous().view((-1, x.shape[1], int(self.kernel_size**2)))\n",
    "            .transpose(0, 1)\n",
    "        )\n",
    "        return windows\n",
    "\n",
    "    def calculate_new_width(self, x):\n",
    "        return (\n",
    "            (x.shape[2] + 2 * self.padding - self.dilation * (self.kernel_size - 1) - 1)\n",
    "            // self.stride\n",
    "        ) + 1\n",
    "\n",
    "    def calculate_new_height(self, x):\n",
    "        return (\n",
    "            (x.shape[3] + 2 * self.padding - self.dilation * (self.kernel_size - 1) - 1)\n",
    "            // self.stride\n",
    "        ) + 1"
   ]
  }
 ],
 "metadata": {
  "kernelspec": {
   "display_name": "condapy310",
   "language": "python",
   "name": "python3"
  },
  "language_info": {
   "codemirror_mode": {
    "name": "ipython",
    "version": 3
   },
   "file_extension": ".py",
   "mimetype": "text/x-python",
   "name": "python",
   "nbconvert_exporter": "python",
   "pygments_lexer": "ipython3",
   "version": "3.10.14"
  }
 },
 "nbformat": 4,
 "nbformat_minor": 2
}
